{
 "cells": [
  {
   "cell_type": "code",
   "execution_count": 1,
   "id": "1a0393ef",
   "metadata": {},
   "outputs": [],
   "source": [
    "import numpy as np\n",
    "import matplotlib.pyplot as plt"
   ]
  },
  {
   "cell_type": "code",
   "execution_count": 2,
   "id": "17df9298",
   "metadata": {},
   "outputs": [],
   "source": [
    "def cholesky_decomposition(A):\n",
    "    \"\"\"\n",
    "    Compute the Cholesky decomposition of a symmetric positive-definite matrix A = L L^T.\n",
    "    \n",
    "    Parameters:\n",
    "    A : numpy.ndarray\n",
    "        A symmetric positive-definite matrix of shape (n, n)\n",
    "        \n",
    "    Returns:\n",
    "    L : numpy.ndarray\n",
    "        Lower triangular matrix such that A = L L^T\n",
    "\n",
    "    Source: Advance Engineering Mathematics 10th Edition by Erwin Kreyszig, p. 855\n",
    "    \"\"\"\n",
    "    n = A.shape[0]\n",
    "    L = np.zeros_like(A, dtype=np.float64)\n",
    "    \n",
    "    # Check if matrix is square\n",
    "    if A.shape[0] != A.shape[1]:\n",
    "        raise ValueError(\"Matrix must be square\")\n",
    "    \n",
    "    # Check symmetry (optional but good for validation)\n",
    "    if not np.allclose(A, A.T):\n",
    "        raise ValueError(\"Matrix must be symmetric\")\n",
    "    \n",
    "    # j = 1 case (first column)\n",
    "    L[0, 0] = np.sqrt(A[0, 0])\n",
    "    L[1:, 0] = A[1:, 0] / L[0, 0]\n",
    "    \n",
    "    # j = 2 to n\n",
    "    for j in range(1, n):\n",
    "        # Diagonal element\n",
    "        sum_sq = np.sum(L[j, :j]**2)\n",
    "        L[j, j] = np.sqrt(A[j, j] - sum_sq)\n",
    "        \n",
    "        # Off-diagonal elements (p = j+1 to n)\n",
    "        for p in range(j+1, n):\n",
    "            sum_prod = np.sum(L[p, :j] * L[j, :j])\n",
    "            L[p, j] = (A[p, j] - sum_prod) / L[j, j]    # 3rd nested loop in here\n",
    "    \n",
    "    return L"
   ]
  },
  {
   "cell_type": "code",
   "execution_count": 3,
   "id": "7d967877",
   "metadata": {},
   "outputs": [],
   "source": [
    "def forward_substitution(L, Y):\n",
    "    \"\"\"Solve Lz = Y for z (forward substitution).\"\"\"\n",
    "    n = L.shape[0]\n",
    "    z = np.zeros(n, dtype=np.float64)\n",
    "    for i in range(n):\n",
    "        z[i] = (Y[i] - np.dot(L[i, :i], z[:i])) / L[i, i]\n",
    "    return z\n",
    "\n",
    "def backward_substitution(LT, z):\n",
    "    \"\"\"Solve LTx = z for x (backward substitution).\"\"\"\n",
    "    n = LT.shape[0]\n",
    "    x = np.zeros(n, dtype=np.float64)\n",
    "    for i in reversed(range(n)):\n",
    "        x[i] = (z[i] - np.dot(LT[i, i+1:], x[i+1:])) / LT[i, i]\n",
    "    return x\n",
    "\n",
    "def solve_cholesky(B, Y):\n",
    "    \"\"\"Solve Bx = Y using Cholesky decomposition.\"\"\"\n",
    "    L = cholesky_decomposition(B)\n",
    "    z = forward_substitution(L, Y)\n",
    "    x = backward_substitution(L.T, z)\n",
    "    return x"
   ]
  },
  {
   "cell_type": "code",
   "execution_count": 4,
   "id": "83a947cf",
   "metadata": {},
   "outputs": [
    {
     "name": "stdout",
     "output_type": "stream",
     "text": [
      "[[ 2.  0.  0.]\n",
      " [ 1.  4.  0.]\n",
      " [ 7. -3.  5.]]\n",
      "[[ 2.  0.  0.]\n",
      " [ 1.  4.  0.]\n",
      " [ 7. -3.  5.]]\n",
      "Solution x: [ 3. -6.  1.]\n",
      "Verification (Bx): [  14. -101.  155.]\n"
     ]
    }
   ],
   "source": [
    "B = np.array([\n",
    "        [4,   2,  14],\n",
    "        [2,  17,  -5],\n",
    "        [14, -5,  83]\n",
    "    ], dtype=np.float64)\n",
    "\n",
    "print(np.linalg.cholesky(B))\n",
    "\n",
    "L = cholesky_decomposition(B)\n",
    "print(L)\n",
    "\n",
    "Y = np.array([14, -101, 155], dtype=np.float64)\n",
    "\n",
    "# Solve Bx = Y\n",
    "x = solve_cholesky(B, Y)\n",
    "print(\"Solution x:\", x)\n",
    "\n",
    "# Verification: Bx should equal Y\n",
    "print(\"Verification (Bx):\", np.dot(B, x))"
   ]
  },
  {
   "cell_type": "code",
   "execution_count": 5,
   "id": "02fb8ce8",
   "metadata": {},
   "outputs": [],
   "source": [
    "def expand_polynomial(a0, a1, a2, a3, xj):\n",
    "    \"\"\"Convert polynomial from (x-xj) form to standard x form\"\"\"\n",
    "    # q(x) = a0 + a1*(x-xj) + a2*(x-xj)^2 + a3*(x-xj)^3\n",
    "    # Expanded form: c0 + c1*x + c2*x^2 + c3*x^3\n",
    "    c0 = a0 - a1*xj + a2*xj**2 - a3*xj**3\n",
    "    c1 = a1 - 2*a2*xj + 3*a3*xj**2\n",
    "    c2 = a2 - 3*a3*xj\n",
    "    c3 = a3\n",
    "    return [c0, c1, c2, c3]"
   ]
  },
  {
   "cell_type": "code",
   "execution_count": 6,
   "id": "596a1a14",
   "metadata": {},
   "outputs": [
    {
     "name": "stdout",
     "output_type": "stream",
     "text": [
      "---------------------------------------------\n",
      "|   j   |   aj0  |   aj1  |   aj2  |   aj3  |\n",
      "---------------------------------------------\n",
      "|   0   |  0.00  |  0.00  | -0.75  |  0.75  |\n",
      "|   1   |  0.00  |  0.75  |  1.50  | -1.25  |\n",
      "|   2   |  1.00  | -0.00  | -2.25  |  1.25  |\n",
      "|   3   |  0.00  | -0.75  |  1.50  | -0.75  |\n",
      "---------------------------------------------\n",
      "\n",
      "Cubic Spline Results:\n",
      "====================\n",
      "\n",
      "Segment Coefficients (q_j(x) = a0 + a1*(x-xj) + a2*(x-xj)^2 + a3*(x-xj)^3):\n",
      "\n",
      "Segment 0 (x ∈ [-2.0, -1.0]):\n",
      "a00 = 0.000000\n",
      "a10 = 0.000000\n",
      "a20 = -0.750000\n",
      "a30 = 0.750000\n",
      "\n",
      "Segment 1 (x ∈ [-1.0, 0.0]):\n",
      "a01 = 0.000000\n",
      "a11 = 0.750000\n",
      "a21 = 1.500000\n",
      "a31 = -1.250000\n",
      "\n",
      "Segment 2 (x ∈ [0.0, 1.0]):\n",
      "a02 = 1.000000\n",
      "a12 = -0.000000\n",
      "a22 = -2.250000\n",
      "a32 = 1.250000\n",
      "\n",
      "Segment 3 (x ∈ [1.0, 2.0]):\n",
      "a03 = 0.000000\n",
      "a13 = -0.750000\n",
      "a23 = 1.500000\n",
      "a33 = -0.750000\n",
      "\n",
      "Expanded Polynomial Forms:\n",
      "q_0(x) = 0.750000x³ + 3.750000x² + 6.000000x + 3.000000\n",
      "q_1(x) = -1.250000x³ + -2.250000x² + 0.000000x + 1.000000\n",
      "q_2(x) = 1.250000x³ + -2.250000x² + -0.000000x + 1.000000\n",
      "q_3(x) = -0.750000x³ + 3.750000x² + -6.000000x + 3.000000\n"
     ]
    }
   ],
   "source": [
    "# Inputs\n",
    "x_data = [-2, -1, 0, 1, 2]\n",
    "f_data = [0, 0, 1, 0, 0]\n",
    "k0 = 0\n",
    "kn = 0\n",
    "\n",
    "# Start of main section\n",
    "x = np.asarray(x_data, dtype=float)\n",
    "f = np.asarray(f_data, dtype=float)\n",
    "n = len(x) - 1  # number of intervals\n",
    "\n",
    "# Verify inputs\n",
    "if len(x) != len(f):\n",
    "    raise ValueError(\"x and f must have the same length\")\n",
    "if n < 2:\n",
    "    raise ValueError(\"At least 3 data points required for cubic spline\")\n",
    "\n",
    "# Check if nodes are equidistant\n",
    "h = np.diff(x)\n",
    "if not np.allclose(h, h[0]):\n",
    "    raise ValueError(\"Nodes must be equidistant for this implementation\")\n",
    "h = h[0]\n",
    "\n",
    "# Step 1: Solve for k values (first derivatives at nodes)\n",
    "# Set up the system of equations for interior points\n",
    "if n > 2:\n",
    "    # How matrix A is set up:\n",
    "    #---------------------------------------\n",
    "    #   k0 + 4*k1 + 1*k2 + 0*k3 + 0*k4 + ...\n",
    "    # 0*k0 + 1*k1 + 4*k2 + 1*k3 + 0*k4 + ...\n",
    "    # 0*k0 + 0*k1 + 1*k2 + 4*k3 + 1*k4 + ...\n",
    "    # ...\n",
    "\n",
    "    # Put the coefficients in the matrix\n",
    "    # [[ 4.  1.  0.  0. ...  0.]\n",
    "    #  [ 1.  4.  1.  0. ...  0.]\n",
    "    #  [ 0.  1.  4.  1. ...  0.]\n",
    "    #  [ 0.  0.  1.  4. ...  0.]\n",
    "    #  [... ... ... ... ... ...]\n",
    "    #  [ 0. ...  0.  0.  1.  4.]]\n",
    "\n",
    "    # The resulting matrix is always symmetric.\n",
    "    # Good case to test Cholesky decomposition,\n",
    "    # but there is most likely a faster way.\n",
    "\n",
    "    # EDIT: Thomas alg. is prolly the best out there.\n",
    "    # Big O notation for these methods:\n",
    "    # Cholesky decomposition - O(n^3)\n",
    "    # Thomas algorithm       - O(n)\n",
    "    # TODO: Construct TDMA() function\n",
    "\n",
    "    # Create tridiagonal system\n",
    "    A = np.zeros((n-1, n-1))\n",
    "    b = np.zeros(n-1)\n",
    "    \n",
    "    # Main diagonal (4's)\n",
    "    np.fill_diagonal(A, 4)\n",
    "    \n",
    "    # Sub and super diagonals (1's)\n",
    "    if n > 3:\n",
    "        np.fill_diagonal(A[1:], 1)\n",
    "        np.fill_diagonal(A[:, 1:], 1)\n",
    "    \n",
    "    # Right-hand side\n",
    "    for j in range(1, n):\n",
    "        b[j-1] = (3/h) * (f[j+1] - f[j-1])\n",
    "    \n",
    "    # Adjust first and last equations for boundary conditions\n",
    "    b[0] -= k0\n",
    "    b[-1] -= kn\n",
    " \n",
    "    #print(A)\n",
    "\n",
    "    # Solve the system\n",
    "    #k_inner = np.linalg.solve(A, b) # Prolly cheating \n",
    "    k_inner = solve_cholesky(A, b)\n",
    "    # k_inner = tdma()\n",
    "    k = np.concatenate(([k0], k_inner, [kn]))\n",
    "else:\n",
    "    # Special case for only 3 points (1 interior point)\n",
    "    k1 = (3/h) * (f[2] - f[0]) - k0 - kn\n",
    "    k = np.array([k0, k1, kn])\n",
    "\n",
    "#print(k)\n",
    "\n",
    "# Step 2: Calculate coefficients for each spline segment\n",
    "print( \"---------------------------------------------\")\n",
    "print(f\"|   j   |   aj0  |   aj1  |   aj2  |   aj3  |\")\n",
    "print( \"---------------------------------------------\")\n",
    "splines = []\n",
    "for j in range(n):\n",
    "    a0 = f[j]\n",
    "    #print(a0)\n",
    "    a1 = k[j]\n",
    "    #print(a1)\n",
    "    a2 = (3/h**2) * (f[j+1] - f[j]) - (1/h) * (k[j+1] + 2*k[j])\n",
    "    #print(a2)\n",
    "    a3 = (2/h**3) * (f[j] - f[j+1]) + (1/h**2) * (k[j+1] + k[j])\n",
    "    #print(a3)\n",
    "    #print(\"|\", j, \"|\", a0, \"|\", a1, \"|\", a2, \"|\", a3)\n",
    "    print(f\"| {j:3d}   | {a0:5.2f}  | {a1:5.2f}  | {a2:5.2f}  | {a3:5.2f}  |\")\n",
    "    #print(j)\n",
    "\n",
    "    splines.append({\n",
    "            'interval': [x[j], x[j+1]],\n",
    "            'coefficients': [a0, a1, a2, a3],\n",
    "            'expanded': expand_polynomial(a0, a1, a2, a3, x[j])\n",
    "        })\n",
    "print(\"---------------------------------------------\")\n",
    "\n",
    "#print(splines[0]['interval'])\n",
    "#print(splines[0]['coefficients'])\n",
    "#print(\"Final from (lowest to highest)\")\n",
    "#print(splines[0]['expanded'])\n",
    "\n",
    "\"\"\"Print the spline results in a readable format\"\"\"\n",
    "print(\"\\nCubic Spline Results:\")\n",
    "print(\"====================\")\n",
    "\n",
    "print(\"\\nSegment Coefficients (q_j(x) = a0 + a1*(x-xj) + a2*(x-xj)^2 + a3*(x-xj)^3):\")\n",
    "for i, s in enumerate(splines):\n",
    "    print(f\"\\nSegment {i} (x ∈ [{s['interval'][0]}, {s['interval'][1]}]):\")\n",
    "    print(f\"a0{i} = {s['coefficients'][0]:.6f}\")\n",
    "    print(f\"a1{i} = {s['coefficients'][1]:.6f}\")\n",
    "    print(f\"a2{i} = {s['coefficients'][2]:.6f}\")\n",
    "    print(f\"a3{i} = {s['coefficients'][3]:.6f}\")\n",
    "\n",
    "print(\"\\nExpanded Polynomial Forms:\")\n",
    "for i, s in enumerate(splines):\n",
    "    c = s['expanded']\n",
    "    print(f\"q_{i}(x) = {c[3]:.6f}x³ + {c[2]:.6f}x² + {c[1]:.6f}x + {c[0]:.6f}\")"
   ]
  },
  {
   "cell_type": "code",
   "execution_count": 7,
   "id": "83a06621",
   "metadata": {},
   "outputs": [
    {
     "data": {
      "image/png": "[encoded data removed]",
      "text/plain": [
       "<Figure size 1000x600 with 1 Axes>"
      ]
     },
     "metadata": {},
     "output_type": "display_data"
    }
   ],
   "source": [
    "# Create a figure\n",
    "plt.figure(figsize=(10, 6))\n",
    "plt.scatter(x_data, f_data, color='red', label='Data points')\n",
    "\n",
    "# Plot each segment\n",
    "for s in splines:\n",
    "    c0, c1, c2, c3 = s['expanded']\n",
    "    func = lambda x: c3*x**3 + c2*x**2 + c1*x + c0\n",
    "    xmin, xmax = s['interval']\n",
    "    #print(xmin)\n",
    "    x_vals = np.linspace(xmin, xmax, 100)    \n",
    "    plt.plot(x_vals, func(x_vals), label=f'x ∈ [{xmin}, {xmax}]')\n",
    "\n",
    "plt.title('Cubic Spline Interpolation', fontsize=14)\n",
    "\n",
    "# Plots from example\n",
    "#xmin1, xmax1 = -1, 0\n",
    "#tt = np.linspace(xmin1, xmax1, 100)    \n",
    "#qq1 = lambda x: -1.25*x**3 - 2.25*x**2 - 1.5*x - 0.5\n",
    "#plt.plot(tt, qq1(x_vals), label=f'x ∈ [{xmin}, {xmax}]')\n",
    "#\n",
    "#xmin2, xmax2 = 0, 1\n",
    "#tt = np.linspace(xmin2, xmax2, 100)    \n",
    "#qq2 = lambda x: 1.25*x**3 - 3.75*x**2 - 1.0\n",
    "#plt.plot(tt, qq2(x_vals), label=f'x ∈ [{xmin}, {xmax}]')\n",
    "\n",
    "plt.xlabel('$x$', fontsize=12)\n",
    "plt.ylabel('$f(x)$', fontsize=12)\n",
    "plt.legend(fontsize=10)\n",
    "plt.axhline(0, color='black', linewidth=0.5)\n",
    "plt.axvline(0, color='black', linewidth=0.5)\n",
    "plt.grid(True, linestyle='--', alpha=0.7)"
   ]
  },
  {
   "cell_type": "markdown",
   "id": "4b72d5ae",
   "metadata": {},
   "source": [
    "## Possible mistakes in the example file\n",
    "In the table $a_{22}$ should be -2.25."
   ]
  },
  {
   "cell_type": "code",
   "execution_count": 8,
   "id": "0d330d64",
   "metadata": {},
   "outputs": [
    {
     "data": {
      "text/plain": [
       "-2.25"
      ]
     },
     "execution_count": 8,
     "metadata": {},
     "output_type": "execute_result"
    }
   ],
   "source": [
    "# Manual check\n",
    "3/1*(0-1) - 1/1*(-3/4 +2*0)"
   ]
  },
  {
   "cell_type": "markdown",
   "id": "5b8a6a93",
   "metadata": {},
   "source": [
    "### Additional checks using SymPy"
   ]
  },
  {
   "cell_type": "code",
   "execution_count": 9,
   "id": "16517333",
   "metadata": {},
   "outputs": [
    {
     "data": {
      "text/latex": [
       "$\\displaystyle - 1.25 x^{3} - 2.25 x^{2} + 1.0$"
      ],
      "text/plain": [
       "-1.25*x**3 - 2.25*x**2 + 1.0"
      ]
     },
     "execution_count": 9,
     "metadata": {},
     "output_type": "execute_result"
    }
   ],
   "source": [
    "import sympy as sy\n",
    "from IPython.display import display\n",
    "\n",
    "x = sy.Symbol(\"x\")\n",
    "q1 = 0 + 0.75*(x -(-1)) + 1.5*(x -(-1))**2 + (-1.25)*(x - (-1))**3\n",
    "sy.expand(q1)"
   ]
  },
  {
   "cell_type": "markdown",
   "id": "71ed0896",
   "metadata": {},
   "source": [
    "### More mistakes visible here"
   ]
  },
  {
   "cell_type": "code",
   "execution_count": 10,
   "id": "bab0f202",
   "metadata": {},
   "outputs": [
    {
     "data": {
      "text/latex": [
       "$\\displaystyle 0.75 x^{3} + 3.75 x^{2} + 6.0 x + 3.0$"
      ],
      "text/plain": [
       "0.75*x**3 + 3.75*x**2 + 6.0*x + 3.0"
      ]
     },
     "metadata": {},
     "output_type": "display_data"
    },
    {
     "data": {
      "text/latex": [
       "$\\displaystyle - 1.25 x^{3} - 2.25 x^{2} + 1.0$"
      ],
      "text/plain": [
       "-1.25*x**3 - 2.25*x**2 + 1.0"
      ]
     },
     "metadata": {},
     "output_type": "display_data"
    },
    {
     "data": {
      "text/latex": [
       "$\\displaystyle 1.25 x^{3} - 2.25 x^{2} - 5.73316704659901 \\cdot 10^{-17} x + 1.0$"
      ],
      "text/plain": [
       "1.25*x**3 - 2.25*x**2 - 5.73316704659901e-17*x + 1.0"
      ]
     },
     "metadata": {},
     "output_type": "display_data"
    },
    {
     "data": {
      "text/latex": [
       "$\\displaystyle - 0.75 x^{3} + 3.75 x^{2} - 6.0 x + 3.0$"
      ],
      "text/plain": [
       "-0.75*x**3 + 3.75*x**2 - 6.0*x + 3.0"
      ]
     },
     "metadata": {},
     "output_type": "display_data"
    }
   ],
   "source": [
    "for i in range(n):\n",
    "    C = splines[i]['coefficients']\n",
    "    X = splines[i]['interval']\n",
    "    q = C[0] + C[1]*(x - X[0]) + C[2]*(x - X[0])**2 + C[3]*(x - X[0])**3\n",
    "    #sy.pprint(sy.expand(q))\n",
    "    display(sy.expand(q))"
   ]
  },
  {
   "cell_type": "markdown",
   "id": "f40ad41c",
   "metadata": {},
   "source": [
    "### Suggested fix\n",
    "$$\n",
    "g(x)=\\left\\{\\begin{array}{l}\n",
    "0.75 x^3 + 3.75 x^2 + 6 x + 3, \\quad x \\in[-2,-1), \\\\\n",
    "-1.25 x^3 - 2.25 x^2 + 1, \\quad x \\in[-1,0), \\\\\n",
    "1.25 x^3 - 2.25 x^2 + 1, \\quad x \\in[0,1), \\\\\n",
    "-0.75 x^3 + 3.75 x^2 - 6 x + 3, \\quad x \\in[1,2] .\n",
    "\\end{array}\\right.\n",
    "$$"
   ]
  }
 ],
 "metadata": {
  "kernelspec": {
   "display_name": "compy3.12",
   "language": "python",
   "name": "python3"
  },
  "language_info": {
   "codemirror_mode": {
    "name": "ipython",
    "version": 3
   },
   "file_extension": ".py",
   "mimetype": "text/x-python",
   "name": "python",
   "nbconvert_exporter": "python",
   "pygments_lexer": "ipython3",
   "version": "3.12.3"
  }
 },
 "nbformat": 4,
 "nbformat_minor": 5
}
