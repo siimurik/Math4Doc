{
 "cells": [
  {
   "cell_type": "code",
   "execution_count": 6,
   "id": "8f43f281",
   "metadata": {},
   "outputs": [],
   "source": [
    "import math as m"
   ]
  },
  {
   "cell_type": "code",
   "execution_count": 7,
   "id": "52d81655",
   "metadata": {},
   "outputs": [],
   "source": [
    "def gauss_legendre_nodes_weights(n):\n",
    "    \"\"\"\n",
    "    Calculate Gauss-Legendre quadrature nodes and weights for n points.\n",
    "    Returns (nodes, weights) tuple.\n",
    "    \n",
    "    Valid n values: positive integers (typically between 2 and 100 for good results)\n",
    "    Higher n gives more accuracy but requires more computation.\n",
    "    \"\"\"\n",
    "    if not isinstance(n, int) or n < 1:\n",
    "        raise ValueError(\"Number of points n must be a positive integer\")\n",
    "    \n",
    "    nodes = []\n",
    "    weights = []\n",
    "    \n",
    "    # Initial approximations for roots\n",
    "    for i in range(1, n+1):\n",
    "        z = m.cos(m.pi * (i - 0.25) / (n + 0.5))\n",
    "        \n",
    "        # Newton's method refinement\n",
    "        while True:\n",
    "            p1 = 1.0\n",
    "            p2 = 0.0\n",
    "            for j in range(1, n+1):\n",
    "                p3 = p2\n",
    "                p2 = p1\n",
    "                p1 = ((2.0 * j - 1.0) * z * p2 - (j - 1.0) * p3) / j\n",
    "            \n",
    "            # p1 is now the desired Legendre polynomial\n",
    "            # pp is its derivative\n",
    "            pp = n * (z * p1 - p2) / (z * z - 1.0)\n",
    "            z_old = z\n",
    "            z = z_old - p1 / pp\n",
    "            \n",
    "            if abs(z - z_old) < 1e-15:\n",
    "                break\n",
    "        \n",
    "        nodes.append(z)\n",
    "        weights.append(2.0 / ((1.0 - z * z) * pp * pp))\n",
    "    \n",
    "    return nodes, weights\n",
    "\n",
    "def gauss_quadrature_integrate(f, a, b, n):\n",
    "    \"\"\"\n",
    "    Integrate function f from a to b using Gauss-Legendre quadrature with n points\n",
    "    \n",
    "    Parameters:\n",
    "    f: function to integrate\n",
    "    a: lower bound\n",
    "    b: upper bound\n",
    "    n: number of quadrature points (default=5)\n",
    "    \n",
    "    Returns:\n",
    "    Approximate integral value\n",
    "    \"\"\"\n",
    "    # Get nodes and weights for interval [-1, 1]\n",
    "    nodes, weights = gauss_legendre_nodes_weights(n)\n",
    "    \n",
    "    # Transform from [-1,1] to [a,b]\n",
    "    integral = 0.0\n",
    "    for xi, wi in zip(nodes, weights):\n",
    "        x_transformed = 0.5 * (b - a) * xi + 0.5 * (a + b)\n",
    "        integral += wi * f(x_transformed)\n",
    "    \n",
    "    integral *= 0.5 * (b - a)\n",
    "    return integral\n",
    "\n",
    "#def main():\n",
    "#\n",
    "#if __name__ == \"__main__\":\n",
    "#    main()"
   ]
  },
  {
   "cell_type": "code",
   "execution_count": 11,
   "id": "7aa9080d",
   "metadata": {},
   "outputs": [
    {
     "data": {
      "text/plain": [
       "([0.906179845938664,\n",
       "  0.5384693101056831,\n",
       "  0.0,\n",
       "  -0.5384693101056831,\n",
       "  -0.906179845938664],\n",
       " [0.236926885056189,\n",
       "  0.47862867049936647,\n",
       "  0.5688888888888889,\n",
       "  0.47862867049936647,\n",
       "  0.236926885056189])"
      ]
     },
     "execution_count": 11,
     "metadata": {},
     "output_type": "execute_result"
    }
   ],
   "source": [
    "gauss_legendre_nodes_weights(5)"
   ]
  },
  {
   "cell_type": "code",
   "execution_count": 9,
   "id": "13f10e02",
   "metadata": {},
   "outputs": [],
   "source": [
    "# Define our function to integrate\n",
    "def f(x):\n",
    "    return m.cos(x)"
   ]
  },
  {
   "cell_type": "code",
   "execution_count": 10,
   "id": "8dde0ec7",
   "metadata": {},
   "outputs": [
    {
     "name": "stdout",
     "output_type": "stream",
     "text": [
      "Gaussian Quadrature Integration\n",
      "-------------------------------\n",
      "\n",
      "Integrating cos(x) from 0 to π/2 with 5 points\n",
      "Approximate result: 1.000000000039565\n",
      "Exact result: 1.000000000000000\n",
      "Absolute error: 3.95650e-11\n"
     ]
    }
   ],
   "source": [
    "print(\"Gaussian Quadrature Integration\")\n",
    "print(\"-------------------------------\")\n",
    "\n",
    "# Get user input\n",
    "while True:\n",
    "    try:\n",
    "        #n = int(input(\"Enter number of quadrature points (2-100 recommended): \"))\n",
    "        n = 5\n",
    "        if n < 1:\n",
    "            print(\"Please enter a positive integer\")\n",
    "            continue\n",
    "        break\n",
    "    except ValueError:\n",
    "        print(\"Please enter a valid integer\")\n",
    "\n",
    "# Integration bounds\n",
    "a = 0.0\n",
    "b = m.pi / 2\n",
    "\n",
    "# Calculate integral\n",
    "result = gauss_quadrature_integrate(f, a, b, n)\n",
    "exact = 1.0  # Exact integral of cos(x) from 0 to pi/2\n",
    "\n",
    "print(f\"\\nIntegrating cos(x) from 0 to π/2 with {n} points\")\n",
    "print(f\"Approximate result: {result:.15f}\")\n",
    "print(f\"Exact result: {exact:.15f}\")\n",
    "print(f\"Absolute error: {abs(result - exact):.5e}\")"
   ]
  }
 ],
 "metadata": {
  "kernelspec": {
   "display_name": "pandas-env",
   "language": "python",
   "name": "python3"
  },
  "language_info": {
   "codemirror_mode": {
    "name": "ipython",
    "version": 3
   },
   "file_extension": ".py",
   "mimetype": "text/x-python",
   "name": "python",
   "nbconvert_exporter": "python",
   "pygments_lexer": "ipython3",
   "version": "3.12.8"
  }
 },
 "nbformat": 4,
 "nbformat_minor": 5
}
