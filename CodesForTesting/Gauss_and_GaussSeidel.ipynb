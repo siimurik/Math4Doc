{
 "cells": [
  {
   "cell_type": "markdown",
   "id": "1e0a8a55",
   "metadata": {},
   "source": [
    "$\\operatorname{ALGORITHM} \\operatorname{GAUSS}\\left(\\widetilde{\\mathbf{A}}=\\left[a_{j k}\\right]=\\left[\\begin{array}{ll}\\mathbf{A} & \\mathbf{b}\\end{array}\\right]\\right)$\n",
    "This algorithm computes a unique solution $\\mathbf{x}=\\left[x_j\\right]$ of the system (1) or indicates that (1) has no unique solution.\n",
    "\n",
    "INPUT: Augmented $n \\times(n+1)$ matrix $\\widetilde{\\mathbf{A}}=\\left[a_{j k}\\right]$, where $a_{j, n+1}=b_j$\n",
    "OUTPUT: Solution $\\mathbf{x}=\\left[x_j\\right]$ of (1) or message that the system (1) has no unique solution\n",
    "For $k=1, \\cdots, n-1$, do:\n",
    "\n",
    "1\n",
    "2\n",
    "3\n",
    "4\n",
    "5\n",
    "6\n",
    "7\n",
    "$$\n",
    "m=k\n",
    "$$\n",
    "\n",
    "For $j=k+1, \\cdots, n$, do:\n",
    "If $\\left(\\left|a_{m k}\\right|<\\left|a_{j k}\\right|\\right)$ then $m=j$\n",
    "End\n",
    "If $a_{m k}=0$ then OUTPUT \"No unique solution exists\"\n",
    "Stop\n",
    "[Procedure completed unsuccessfully]\n",
    "Else exchange row $k$ and row $m$\n",
    "If $a_{n n}=0$ then OUTPUT \"No unique solution exists.\"\n",
    "Stop\n",
    "Else\n",
    "For $j=k+1, \\cdots, n$, do:\n",
    "$$\n",
    "m_{j k}:=\\frac{a_{j k}}{a_{k k}}\n",
    "$$\n",
    "\n",
    "For $p=k+1, \\cdots, n+1$, do:\n",
    "$$\n",
    "a_{j p}:=a_{j p}-m_{j k} a_{k p}\n",
    "$$\n",
    "\n",
    "End\n",
    "End\n",
    "End\n",
    "$$\n",
    "x_n=\\frac{a_{n, n+1}}{a_{n n}} \\quad[\\text { Start back substitution }]\n",
    "$$\n",
    "\n",
    "For $i=n-1, \\cdots, 1$, do:\n",
    "$$\n",
    "x_i=\\frac{1}{a_{i i}}\\left(a_{i, n+1}-\\sum_{j=i+1}^n a_{i j} x_j\\right)\n",
    "$$\n",
    "\n",
    "End\n",
    "OUTPUT $\\mathbf{x}=\\left[x_j\\right]$. Stop\n",
    "End GAUSS"
   ]
  },
  {
   "cell_type": "code",
   "execution_count": 1,
   "id": "7a05263f",
   "metadata": {},
   "outputs": [],
   "source": [
    "def gauss_elimination(A):\n",
    "    \"\"\"\n",
    "    Solves a system of linear equations Ax = b using Gaussian elimination with partial pivoting.\n",
    "    \n",
    "    Args:\n",
    "        A: Augmented matrix [A|b] where A is an n x n matrix and b is the n x 1 vector.\n",
    "        \n",
    "    Returns:\n",
    "        x: Solution vector if a unique solution exists.\n",
    "        or \n",
    "        str: \"No unique solution exists\" if the system has no unique solution.\n",
    "    \n",
    "    Reference: Advanced Engineering Mathematics 10th Edition by Erwin Kreyszig (page 849)\n",
    "    \"\"\"\n",
    "    n = len(A)\n",
    "    \n",
    "    # Forward elimination with partial pivoting\n",
    "    for k in range(n - 1):\n",
    "        # Partial pivoting\n",
    "        max_row = k\n",
    "        for j in range(k + 1, n):\n",
    "            if abs(A[j][k]) > abs(A[max_row][k]):\n",
    "                max_row = j\n",
    "        \n",
    "        # Check for singular matrix\n",
    "        if A[max_row][k] == 0:\n",
    "            return \"No unique solution exists\"\n",
    "        \n",
    "        # Swap rows if necessary\n",
    "        if max_row != k:\n",
    "            A[k], A[max_row] = A[max_row], A[k]\n",
    "        \n",
    "        # Elimination\n",
    "        for j in range(k + 1, n):\n",
    "            mjk = A[j][k] / A[k][k]\n",
    "            for p in range(k, n + 1):\n",
    "                A[j][p] -= mjk * A[k][p]\n",
    "    \n",
    "    # Check for singular matrix\n",
    "    if A[n-1][n-1] == 0:\n",
    "        return \"No unique solution exists\"\n",
    "    \n",
    "    # Back substitution\n",
    "    x = [0] * n\n",
    "    x[n-1] = A[n-1][n] / A[n-1][n-1]\n",
    "    \n",
    "    for i in range(n-2, -1, -1):\n",
    "        sum_ax = 0\n",
    "        for j in range(i + 1, n):\n",
    "            sum_ax += A[i][j] * x[j]\n",
    "        x[i] = (A[i][n] - sum_ax) / A[i][i]\n",
    "    \n",
    "    return x"
   ]
  },
  {
   "cell_type": "code",
   "execution_count": 2,
   "id": "c53233c4",
   "metadata": {},
   "outputs": [
    {
     "name": "stdout",
     "output_type": "stream",
     "text": [
      "Solution: [2.0, 3.0000000000000004, -0.9999999999999999]\n"
     ]
    }
   ],
   "source": [
    "# Example system:\n",
    "# 2x + y - z = 8\n",
    "# -3x - y + 2z = -11\n",
    "# -2x + y + 2z = -3\n",
    "# Solution: x = 2, y = 3, z = -1\n",
    "\n",
    "augmented_matrix = [\n",
    "    [2, 1, -1, 8],\n",
    "    [-3, -1, 2, -11],\n",
    "    [-2, 1, 2, -3]\n",
    "]\n",
    "\n",
    "solution = gauss_elimination(augmented_matrix)\n",
    "print(\"Solution:\", solution)"
   ]
  },
  {
   "cell_type": "code",
   "execution_count": 3,
   "id": "5719cdc2",
   "metadata": {},
   "outputs": [],
   "source": [
    "def gauss_seidel(A, b, x0, epsilon, N):\n",
    "    \"\"\"\n",
    "    Solves a system of linear equations Ax = b using Gauss-Seidel iteration.\n",
    "    \n",
    "    Args:\n",
    "        A: Coefficient matrix (n x n)\n",
    "        b: Right-hand side vector (n x 1)\n",
    "        x0: Initial approximation vector (n x 1)\n",
    "        epsilon: Tolerance for convergence\n",
    "        N: Maximum number of iterations\n",
    "        \n",
    "    Returns:\n",
    "        x: Approximate solution if converged within tolerance\n",
    "        or \n",
    "        str: Failure message if not converged after N iterations\n",
    "\n",
    "    Reference: Advanced Engineering Mathematics 10th Edition by Erwin Kreyszig (page 860)\n",
    "    \"\"\"\n",
    "    # ========== DIMENSION CHECKS ==========\n",
    "    n = len(A)\n",
    "    \n",
    "    # Check if A is square\n",
    "    if any(len(row) != n for row in A):\n",
    "        raise ValueError(\"Matrix A must be square (n x n)\")\n",
    "    \n",
    "    # Check b dimensions\n",
    "    if len(b) != n:\n",
    "        raise ValueError(f\"Dimension mismatch: b has {len(b)} elements but should have {n} (must match A's rows)\")\n",
    "    \n",
    "    # Check x0 dimensions\n",
    "    if len(x0) != n:\n",
    "        raise ValueError(f\"Dimension mismatch: x0 has {len(x0)} elements but should have {n} (must match A's dimension)\")\n",
    "    \n",
    "    # Check diagonal elements (Gauss-Seidel requirement)\n",
    "    for i in range(n):\n",
    "        if A[i][i] == 0:\n",
    "            raise ValueError(f\"Zero diagonal element at A[{i}][{i}] - Gauss-Seidel requires non-zero diagonal elements\")\n",
    "    \n",
    "    # ========== MAIN ALGORITHM ==========\n",
    "    x_prev = x0.copy()\n",
    "    x_next = x0.copy()\n",
    "    \n",
    "    for m in range(N):\n",
    "        # Update each component of the solution vector\n",
    "        for j in range(n):\n",
    "            sum1 = 0.0\n",
    "            for k in range(j):\n",
    "                sum1 += A[j][k] * x_next[k]\n",
    "            \n",
    "            sum2 = 0.0\n",
    "            for k in range(j+1, n):\n",
    "                sum2 += A[j][k] * x_prev[k]\n",
    "            \n",
    "            x_next[j] = (b[j] - sum1 - sum2) / A[j][j]\n",
    "        \n",
    "        # Check convergence condition\n",
    "        converged = True\n",
    "        for j in range(n):\n",
    "            if abs(x_next[j] - x_prev[j]) >= epsilon * abs(x_next[j]):\n",
    "                converged = False\n",
    "                break\n",
    "        \n",
    "        if converged:\n",
    "            return x_next\n",
    "        \n",
    "        # Prepare for next iteration\n",
    "        x_prev = x_next.copy()\n",
    "    \n",
    "    return \"No solution satisfying the tolerance condition obtained after N iteration steps.\"\n"
   ]
  },
  {
   "cell_type": "code",
   "execution_count": 4,
   "id": "2e9d87c3",
   "metadata": {},
   "outputs": [
    {
     "name": "stdout",
     "output_type": "stream",
     "text": [
      "Solution: [0.5813953627874815, 0.1860464999192942, 0.7441860457644082]\n"
     ]
    }
   ],
   "source": [
    "# Example system:\n",
    "# 4x + y + 2z = 4\n",
    "# x + 5y + 2z = 3\n",
    "# x + y + 3z = 3\n",
    "# Solution: x = 0.5, y = 0.5, z = 0.666...\n",
    "\n",
    "A = [\n",
    "    [4, 1, 2],\n",
    "    [1, 5, 2],\n",
    "    [1, 1, 3]\n",
    "]\n",
    "b = [4, 3, 3]\n",
    "\n",
    "x0 = [0, 0, 0]  # Initial guess\n",
    "epsilon = 1e-6   # Tolerance\n",
    "N = 100          # Max iterations\n",
    "\n",
    "solution = gauss_seidel(A, b, x0, epsilon, N)\n",
    "print(\"Solution:\", solution)"
   ]
  },
  {
   "cell_type": "code",
   "execution_count": 5,
   "id": "c1f27b9c",
   "metadata": {},
   "outputs": [
    {
     "name": "stdout",
     "output_type": "stream",
     "text": [
      "Solution: [87.5, 87.5, 62.49999999999999, 62.5]\n"
     ]
    }
   ],
   "source": [
    "A_gauss =   [\n",
    "                [-4.0,  1.0,  1.0,  0.0, -200.0],\n",
    "                [ 1.0, -4.0,  0.0,  1.0, -200.0],\n",
    "                [ 1.0,  0.0, -4.0,  1.0, -100.0],\n",
    "                [ 0.0,  1.0,  1.0, -4.0, -100.0],\n",
    "            ]\n",
    "uG_vec = gauss_elimination(A_gauss)\n",
    "print(\"Solution:\", uG_vec)"
   ]
  },
  {
   "cell_type": "code",
   "execution_count": 6,
   "id": "e33747ad",
   "metadata": {},
   "outputs": [
    {
     "name": "stdout",
     "output_type": "stream",
     "text": [
      "Solution: [87.5, 87.5, 62.5, 62.5]\n"
     ]
    }
   ],
   "source": [
    "A_GS =  [\n",
    "        [-4.0,  1.0,  1.0,  0.0],\n",
    "        [ 1.0, -4.0,  0.0,  1.0],\n",
    "        [ 1.0,  0.0, -4.0,  1.0],\n",
    "        [ 0.0,  1.0,  1.0, -4.0]\n",
    "        ]\n",
    "b_GS = [-200.0, -200.0, -100.0, -100.0]\n",
    "\n",
    "x0_GS = [1.0, 1.0, 1.0, 1.0]    # Initial guess\n",
    "eps = 1e-16             # Tolerance\n",
    "max_iter = 1000         # Max iterations\n",
    "\n",
    "uGS_vec = gauss_seidel(A_GS, b_GS, x0_GS, eps, max_iter)\n",
    "print(\"Solution:\", uGS_vec)"
   ]
  },
  {
   "cell_type": "code",
   "execution_count": 7,
   "id": "35f5112f",
   "metadata": {},
   "outputs": [],
   "source": [
    "import numpy as np"
   ]
  },
  {
   "cell_type": "code",
   "execution_count": 8,
   "id": "08378ca7",
   "metadata": {},
   "outputs": [],
   "source": [
    "n = int(4)\n",
    "A = np.zeros((n, n))\n",
    "P = np.zeros((n, n))\n",
    "b = np.zeros(n)\n",
    "u = np.zeros(n)"
   ]
  },
  {
   "cell_type": "markdown",
   "id": "b4ce7fa8",
   "metadata": {},
   "source": [
    "$$\n",
    "u_{i+1, j} + u_{i, j+1} + u_{i-1, j} + u_{i, j-1} - 4 u_{i, j} = 0\n",
    "$$"
   ]
  },
  {
   "cell_type": "markdown",
   "id": "d4adfbbb",
   "metadata": {},
   "source": [
    "$$\n",
    "\\begin{bmatrix}\n",
    "u_{03} & u_{13} & u_{23} & u_{33} \\\\\n",
    "u_{02} & u_{12} & u_{22} & u_{32} \\\\\n",
    "u_{01} & u_{11} & u_{21} & u_{31} \\\\\n",
    "u_{00} & u_{10} & u_{20} & u_{30}\n",
    "\\end{bmatrix}\n",
    "$$"
   ]
  },
  {
   "cell_type": "code",
   "execution_count": 9,
   "id": "f326f8eb",
   "metadata": {},
   "outputs": [
    {
     "data": {
      "text/plain": [
       "array([[100.,   0.,   0., 100.],\n",
       "       [100.,   0.,   0., 100.],\n",
       "       [100.,   0.,   0., 100.],\n",
       "       [100., 100., 100., 100.]])"
      ]
     },
     "execution_count": 9,
     "metadata": {},
     "output_type": "execute_result"
    }
   ],
   "source": [
    "# Initial conditions\n",
    "P[0, :] = 0.0   # Top side\n",
    "P[:, 0] = 100.0 # Left side\n",
    "P[n-1, :] = 100.0 # Right side\n",
    "P[:, n-1] = 100.0 # Bottom side\n",
    "\n",
    "P"
   ]
  },
  {
   "cell_type": "code",
   "execution_count": 10,
   "id": "6b87972e",
   "metadata": {},
   "outputs": [
    {
     "data": {
      "text/plain": [
       "array([-200.,    0.,    0.,    0.])"
      ]
     },
     "execution_count": 10,
     "metadata": {},
     "output_type": "execute_result"
    }
   ],
   "source": [
    "b[0] = -(P[1,3] + P[2,0]) # u_{01} & u_{10}\n",
    "b"
   ]
  },
  {
   "cell_type": "code",
   "execution_count": 11,
   "id": "7c73f1c7",
   "metadata": {},
   "outputs": [
    {
     "data": {
      "text/plain": [
       "array([-200., -200.,    0.,    0.])"
      ]
     },
     "execution_count": 11,
     "metadata": {},
     "output_type": "execute_result"
    }
   ],
   "source": [
    "b[1] = -(P[2,3] + P[3,2]) # u_{31} & u_{20}\n",
    "b"
   ]
  },
  {
   "cell_type": "code",
   "execution_count": 12,
   "id": "edf2104e",
   "metadata": {},
   "outputs": [
    {
     "data": {
      "text/plain": [
       "array([-200., -200., -100.,    0.])"
      ]
     },
     "execution_count": 12,
     "metadata": {},
     "output_type": "execute_result"
    }
   ],
   "source": [
    "b[2] = -(P[0,1] + P[1,0]) # u_{13} & u_{02}\n",
    "b"
   ]
  },
  {
   "cell_type": "code",
   "execution_count": 13,
   "id": "9dfa2b0f",
   "metadata": {},
   "outputs": [
    {
     "data": {
      "text/plain": [
       "array([-200., -200., -100., -100.])"
      ]
     },
     "execution_count": 13,
     "metadata": {},
     "output_type": "execute_result"
    }
   ],
   "source": [
    "b[3] = -(P[1,3] + P[0,2]) # u_{32} & u_{23}\n",
    "b"
   ]
  },
  {
   "cell_type": "code",
   "execution_count": 27,
   "id": "4226db29",
   "metadata": {},
   "outputs": [
    {
     "data": {
      "text/plain": [
       "array([[-4.,  1.,  1.,  0.],\n",
       "       [ 1., -4.,  0.,  1.],\n",
       "       [ 1.,  0., -4.,  1.],\n",
       "       [ 0.,  1.,  1., -4.]])"
      ]
     },
     "execution_count": 27,
     "metadata": {},
     "output_type": "execute_result"
    }
   ],
   "source": [
    "A = np.array([\n",
    "    [-4.0,  1.0,  1.0,  0.0],\n",
    "    [ 1.0, -4.0,  0.0,  1.0],\n",
    "    [ 1.0,  0.0, -4.0,  1.0],\n",
    "    [ 0.0,  1.0,  1.0, -4.0]\n",
    "])\n",
    "A"
   ]
  },
  {
   "cell_type": "code",
   "execution_count": 28,
   "id": "839f612d",
   "metadata": {},
   "outputs": [
    {
     "name": "stdout",
     "output_type": "stream",
     "text": [
      "Solution: [87.5, 87.5, 62.5, 62.5]\n"
     ]
    }
   ],
   "source": [
    "x0_GS = [1.0, 1.0, 1.0, 1.0]    # Initial guess\n",
    "eps = 1e-16             # Tolerance\n",
    "max_iter = 1000         # Max iterations\n",
    "\n",
    "u = gauss_seidel(A, b, x0_GS, eps, max_iter)\n",
    "print(\"Solution:\", u)"
   ]
  },
  {
   "cell_type": "code",
   "execution_count": 16,
   "id": "cdf52fa4",
   "metadata": {},
   "outputs": [],
   "source": [
    "def construct_system(grid):\n",
    "    \"\"\"\n",
    "    Constructs matrix A and vector b for the Laplace equation system Au = b.\n",
    "    \n",
    "    Args:\n",
    "        grid: 2D list representing the temperature grid with boundary conditions\n",
    "        \n",
    "    Returns:\n",
    "        A: Coefficient matrix (4x4 for 4x4 grid with 4 unknowns)\n",
    "        b: Right-hand side vector\n",
    "        u: List of (i,j) positions of unknown variables\n",
    "    \"\"\"\n",
    "    n = len(grid)\n",
    "    u = []\n",
    "    \n",
    "    # Find all unknown positions (where value is None)\n",
    "    for i in range(1, n-1):\n",
    "        for j in range(1, n-1):\n",
    "            if grid[i][j] is None:\n",
    "                u.append((i, j))\n",
    "    \n",
    "    num_unknowns = len(u)\n",
    "    A = [[0.0 for _ in range(num_unknowns)] for _ in range(num_unknowns)]\n",
    "    b = [0.0 for _ in range(num_unknowns)]\n",
    "    \n",
    "    # Create mapping from grid positions to equation indices\n",
    "    pos_to_idx = {pos: idx for idx, pos in enumerate(u)}\n",
    "    \n",
    "    for eq_idx, (i, j) in enumerate(u):\n",
    "        # Diagonal element\n",
    "        A[eq_idx][eq_idx] = -4.0\n",
    "        \n",
    "        # Check neighbors and fill matrix A and vector b\n",
    "        for di, dj in [(1,0), (-1,0), (0,1), (0,-1)]:\n",
    "            ni, nj = i + di, j + dj\n",
    "            if grid[ni][nj] is None:\n",
    "                # It's another unknown - find its index\n",
    "                neighbor_idx = pos_to_idx[(ni, nj)]\n",
    "                A[eq_idx][neighbor_idx] = 1.0\n",
    "            else:\n",
    "                # It's a known boundary value - add to b\n",
    "                b[eq_idx] -= grid[ni][nj]\n",
    "    \n",
    "    return A, b, u"
   ]
  },
  {
   "cell_type": "code",
   "execution_count": 17,
   "id": "37574944",
   "metadata": {},
   "outputs": [],
   "source": [
    "def gauss2(A, b):\n",
    "    \"\"\"\n",
    "    Solves a system of linear equations Ax = b using Gaussian elimination.\n",
    "    \n",
    "    Args:\n",
    "        A: Coefficient matrix (n x n)\n",
    "        b: Right-hand side vector (n x 1)\n",
    "        \n",
    "    Returns:\n",
    "        x: Solution vector if a unique solution exists\n",
    "        or \n",
    "        str: \"No unique solution exists\" if the system has no unique solution\n",
    "    \"\"\"\n",
    "    n = len(A)\n",
    "    \n",
    "    # Create augmented matrix\n",
    "    aug = [row.copy() + [b[i]] for i, row in enumerate(A)]\n",
    "    \n",
    "    # Forward elimination with partial pivoting\n",
    "    for k in range(n - 1):\n",
    "        # Partial pivoting\n",
    "        max_row = k\n",
    "        for j in range(k + 1, n):\n",
    "            if abs(aug[j][k]) > abs(aug[max_row][k]):\n",
    "                max_row = j\n",
    "        \n",
    "        # Check for singular matrix\n",
    "        if aug[max_row][k] == 0:\n",
    "            return \"No unique solution exists\"\n",
    "        \n",
    "        # Swap rows if necessary\n",
    "        if max_row != k:\n",
    "            aug[k], aug[max_row] = aug[max_row], aug[k]\n",
    "        \n",
    "        # Elimination\n",
    "        for j in range(k + 1, n):\n",
    "            mjk = aug[j][k] / aug[k][k]\n",
    "            for p in range(k, n + 1):\n",
    "                aug[j][p] -= mjk * aug[k][p]\n",
    "    \n",
    "    # Check for singular matrix\n",
    "    if aug[n-1][n-1] == 0:\n",
    "        return \"No unique solution exists\"\n",
    "    \n",
    "    # Back substitution\n",
    "    x = [0] * n\n",
    "    x[n-1] = aug[n-1][n] / aug[n-1][n-1]\n",
    "    \n",
    "    for i in range(n-2, -1, -1):\n",
    "        sum_ax = 0\n",
    "        for j in range(i + 1, n):\n",
    "            sum_ax += aug[i][j] * x[j]\n",
    "        x[i] = (aug[i][n] - sum_ax) / aug[i][i]\n",
    "    \n",
    "    return x"
   ]
  },
  {
   "cell_type": "code",
   "execution_count": 18,
   "id": "3e69d8da",
   "metadata": {},
   "outputs": [],
   "source": [
    "def gauss_seidel2(A, b, x0=None, max_iter=100, tol=1e-6, verbose=False):\n",
    "    \"\"\"\n",
    "    Solves a system of linear equations Ax = b using Gauss-Seidel iteration.\n",
    "    \n",
    "    Args:\n",
    "        A: Coefficient matrix (n x n)\n",
    "        b: Right-hand side vector (n x 1)\n",
    "        x0: Initial guess (defaults to zero vector)\n",
    "        max_iter: Maximum number of iterations\n",
    "        tol: Tolerance for convergence\n",
    "        verbose: Whether to print iteration info\n",
    "        \n",
    "    Returns:\n",
    "        x: Approximate solution (always returns the latest approximation)\n",
    "    \"\"\"\n",
    "    n = len(A)\n",
    "    \n",
    "    # Initialize solution vector\n",
    "    x = x0.copy() if x0 else [0.0 for _ in range(n)]\n",
    "    \n",
    "    # Check diagonal elements\n",
    "    for i in range(n):\n",
    "        if A[i][i] == 0:\n",
    "            raise ValueError(f\"Zero diagonal element at A[{i}][{i}]\")\n",
    "    \n",
    "    for iteration in range(max_iter):\n",
    "        x_prev = x.copy()\n",
    "        \n",
    "        for i in range(n):\n",
    "            sigma = 0.0\n",
    "            for j in range(n):\n",
    "                if j != i:\n",
    "                    sigma += A[i][j] * x[j]\n",
    "            x[i] = (b[i] - sigma) / A[i][i]\n",
    "        \n",
    "        # Calculate maximum relative error\n",
    "        max_error = max(abs(x[i] - x_prev[i]) / abs(x[i]) if x[i] != 0 else 0 \n",
    "                        for i in range(n))\n",
    "        \n",
    "        if verbose:\n",
    "            print(f\"Iteration {iteration+1}: Max error = {max_error:.6f}\")\n",
    "        \n",
    "        if max_error < tol:\n",
    "            if verbose:\n",
    "                print(f\"Converged after {iteration+1} iterations\")\n",
    "            break\n",
    "    \n",
    "    # Always return the current approximation\n",
    "    return x"
   ]
  },
  {
   "cell_type": "code",
   "execution_count": 19,
   "id": "f5f3546a",
   "metadata": {},
   "outputs": [],
   "source": [
    "def solve_plate_temp(boundary_conditions, method='gauss', max_iter=100, tol=1e-6, verbose=False):\n",
    "    \"\"\"\n",
    "    Solves the temperature distribution problem for a square plate.\n",
    "    \n",
    "    Args:\n",
    "        boundary_conditions: Dictionary of {(i,j): value} for boundary points\n",
    "        method: 'gauss' for Gaussian elimination or 'liebmann' for Gauss-Seidel\n",
    "        max_iter: Maximum iterations for Liebmann's method\n",
    "        tol: Tolerance for Liebmann's method\n",
    "        verbose: Whether to print iteration info\n",
    "        \n",
    "    Returns:\n",
    "        solution: Complete temperature grid with solved values\n",
    "        method_used: String indicating which method was used\n",
    "    \"\"\"\n",
    "    # Create grid with None for unknown points\n",
    "    n = 4  # For 4x4 grid\n",
    "    grid = [[None for _ in range(n)] for _ in range(n)]\n",
    "    \n",
    "    # Apply boundary conditions\n",
    "    for (i, j), value in boundary_conditions.items():\n",
    "        grid[i][j] = value\n",
    "    \n",
    "    # Construct system\n",
    "    A, b, u = construct_system(grid)\n",
    "    \n",
    "    # Select and apply solution method\n",
    "    method_used = \"\"\n",
    "    if method.lower() in ['gauss', 'elimination', 'direct']:\n",
    "        method_used = \"Gauss elimination\"\n",
    "        solution = gauss2(A, b)\n",
    "    elif method.lower() in ['liebmann', 'gauss-seidel', 'iterative']:\n",
    "        method_used = \"Liebmann's method (Gauss-Seidel)\"\n",
    "        solution = gauss_seidel2(A, b, x0=[100]*len(b), max_iter=max_iter, tol=tol, verbose=verbose)\n",
    "    else:\n",
    "        raise ValueError(\"Invalid method. Choose 'gauss' or 'liebmann'\")\n",
    "    \n",
    "    # Fill in the solved values (regardless of convergence)\n",
    "    for idx, (i, j) in enumerate(u):\n",
    "        if isinstance(solution, list) and idx < len(solution):\n",
    "            grid[i][j] = solution[idx]\n",
    "        else:\n",
    "            grid[i][j] = None\n",
    "    \n",
    "    return grid, method_used"
   ]
  },
  {
   "cell_type": "code",
   "execution_count": 20,
   "id": "cd110c8d",
   "metadata": {},
   "outputs": [],
   "source": [
    "def solve_plate_temperature(boundary_conditions, method='gauss', max_iter=100, tol=1e-6, verbose=False):\n",
    "    \"\"\"\n",
    "    Solves the temperature distribution problem for a square plate.\n",
    "    \n",
    "    Args:\n",
    "        boundary_conditions: Dictionary of {(i,j): value} for boundary points\n",
    "        method: 'gauss' for Gaussian elimination or 'liebmann' for Gauss-Seidel\n",
    "        max_iter: Maximum iterations for Liebmann's method\n",
    "        tol: Tolerance for Liebmann's method\n",
    "        verbose: Whether to print iteration info\n",
    "        \n",
    "    Returns:\n",
    "        solution: Complete temperature grid with solved values\n",
    "        method_used: String indicating which method was used\n",
    "    \"\"\"\n",
    "    # Create grid with None for unknown points\n",
    "    n = 4  # For 4x4 grid\n",
    "    grid = [[None for _ in range(n)] for _ in range(n)]\n",
    "    \n",
    "    # Apply boundary conditions\n",
    "    for (i, j), value in boundary_conditions.items():\n",
    "        grid[i][j] = value\n",
    "    \n",
    "    # Construct system\n",
    "    A, b, u = construct_system(grid)\n",
    "    \n",
    "    # Select and apply solution method\n",
    "    method_used = \"\"\n",
    "    if method.lower() in ['gauss', 'elimination', 'direct']:\n",
    "        method_used = \"Gauss elimination\"\n",
    "        solution = gauss2(A, b)\n",
    "    elif method.lower() in ['liebmann', 'gauss-seidel', 'iterative']:\n",
    "        method_used = \"Liebmann's method (Gauss-Seidel)\"\n",
    "        solution = gauss_seidel2(A, b, x0=[100]*len(b), max_iter=max_iter, tol=tol, verbose=verbose)\n",
    "    else:\n",
    "        raise ValueError(\"Invalid method. Choose 'gauss' or 'liebmann'\")\n",
    "    \n",
    "    # Handle solution results\n",
    "    if isinstance(solution, str):\n",
    "        print(f\"{method_used} failed: {solution}\")\n",
    "        return grid, method_used\n",
    "    \n",
    "    # Fill in the solved values\n",
    "    for idx, (i, j) in enumerate(u):\n",
    "        grid[i][j] = solution[idx]\n",
    "    \n",
    "    return grid, method_used\n",
    "\n",
    "def print_temperature_grid(grid, title=\"Temperature Distribution\"):\n",
    "    \"\"\"\n",
    "    Prints the temperature grid in a visually appealing format.\n",
    "    \n",
    "    Args:\n",
    "        grid: 2D list of temperature values\n",
    "        title: Header for the printed output\n",
    "    \"\"\"\n",
    "    n = len(grid)\n",
    "    # Determine the maximum width needed for any element\n",
    "    max_width = max(len(f\"{val:.1f}\") if val is not None else len(\"None\") \n",
    "                   for row in grid for val in row)\n",
    "    \n",
    "    print(f\"\\n{title}:\")\n",
    "    print(\"+\" + (\"-\" * (max_width + 2) + \"+\") * n)\n",
    "    \n",
    "    for i, row in enumerate(grid):\n",
    "        print(\"|\", end=\"\")\n",
    "        for val in row:\n",
    "            if val is None:\n",
    "                print(f\" {'None':>{max_width}} |\", end=\"\")\n",
    "            else:\n",
    "                print(f\" {val:>{max_width}.1f} |\", end=\"\")  # Fixed this line\n",
    "        print(\"\\n+\" + (\"-\" * (max_width + 2) + \"+\") * n)"
   ]
  },
  {
   "cell_type": "code",
   "execution_count": 21,
   "id": "569125f8",
   "metadata": {},
   "outputs": [],
   "source": [
    "def print_boundary_conditions(boundary_conditions, grid_size=4):\n",
    "    \"\"\"\n",
    "    Prints the boundary conditions with unknown nodes marked as u_{ij}.\n",
    "    \n",
    "    Args:\n",
    "        boundary_conditions: Dictionary of {(i,j): value} for boundary points\n",
    "        grid_size: Size of the grid (default 4 for 4x4 grid)\n",
    "    \"\"\"\n",
    "    # Determine the maximum width needed for any element\n",
    "    max_val_width = max(len(str(val)) for val in boundary_conditions.values())\n",
    "    max_label_width = max(len(f\"u_{i}{j}\") for i in range(grid_size) \n",
    "                                      for j in range(grid_size))\n",
    "    max_width = max(max_val_width, max_label_width)\n",
    "    \n",
    "    print(\"\\nBoundary Conditions with Unknown Nodes:\")\n",
    "    print(\"+\" + (\"-\" * (max_width + 2) + \"+\") * grid_size)\n",
    "    \n",
    "    for i in range(grid_size):\n",
    "        print(\"|\", end=\"\")\n",
    "        for j in range(grid_size):\n",
    "            pos = (i, j)\n",
    "            if pos in boundary_conditions:\n",
    "                # Known boundary value\n",
    "                print(f\" {boundary_conditions[pos]:>{max_width}} |\", end=\"\")\n",
    "            else:\n",
    "                # Unknown node - print as u_{ij}\n",
    "                print(f\" {'u_'+str(i)+str(j):>{max_width}} |\", end=\"\")\n",
    "        print(\"\\n+\" + (\"-\" * (max_width + 2) + \"+\") * grid_size)"
   ]
  },
  {
   "cell_type": "code",
   "execution_count": 22,
   "id": "cd15d339",
   "metadata": {},
   "outputs": [
    {
     "name": "stdout",
     "output_type": "stream",
     "text": [
      "\n",
      "Boundary Conditions with Unknown Nodes:\n",
      "+------+------+------+------+\n",
      "|  100 |    0 |    0 |  100 |\n",
      "+------+------+------+------+\n",
      "|  100 | u_11 | u_12 |  100 |\n",
      "+------+------+------+------+\n",
      "|  100 | u_21 | u_22 |  100 |\n",
      "+------+------+------+------+\n",
      "|  100 |  100 |  100 |  100 |\n",
      "+------+------+------+------+\n"
     ]
    }
   ],
   "source": [
    "# Example boundary conditions (using matrix notation from problem)\n",
    "# (No idea what should be happening in the corners since they are not considered)\n",
    "boundary_conditions = {\n",
    "    (0, 0): 100, (0, 1):   0, (0, 2):   0, (0, 3): 100,   # Left side and top-left\n",
    "    (1, 0): 100,                           (1, 3): 100,   # Left and top\n",
    "    (2, 0): 100,                           (2, 3): 100,   # Left and top\n",
    "    (3, 0): 100, (3, 1): 100, (3, 2): 100, (3, 3): 100    # Bottom side and top-right\n",
    "}\n",
    "\n",
    "print_boundary_conditions(boundary_conditions)"
   ]
  },
  {
   "cell_type": "code",
   "execution_count": 23,
   "id": "a417c8c2",
   "metadata": {},
   "outputs": [
    {
     "name": "stdout",
     "output_type": "stream",
     "text": [
      "\n",
      "Solution using Gauss elimination:\n",
      "+-------+-------+-------+-------+\n",
      "| 100.0 |   0.0 |   0.0 | 100.0 |\n",
      "+-------+-------+-------+-------+\n",
      "| 100.0 |  62.5 |  62.5 | 100.0 |\n",
      "+-------+-------+-------+-------+\n",
      "| 100.0 |  87.5 |  87.5 | 100.0 |\n",
      "+-------+-------+-------+-------+\n",
      "| 100.0 | 100.0 | 100.0 | 100.0 |\n",
      "+-------+-------+-------+-------+\n"
     ]
    }
   ],
   "source": [
    "# Solve with Gaussian elimination\n",
    "solution_gauss, method_gauss = solve_plate_temperature(\n",
    "    boundary_conditions, method='gauss'\n",
    ")\n",
    "print_temperature_grid(solution_gauss, f\"Solution using {method_gauss}\")"
   ]
  },
  {
   "cell_type": "code",
   "execution_count": 24,
   "id": "4fc42d7a",
   "metadata": {},
   "outputs": [
    {
     "name": "stdout",
     "output_type": "stream",
     "text": [
      "Iteration 1: Max error = 0.454545\n",
      "Iteration 2: Max error = 0.142857\n",
      "Iteration 3: Max error = 0.037037\n",
      "Iteration 4: Max error = 0.009346\n",
      "Iteration 5: Max error = 0.002342\n",
      "\n",
      "Solution using Liebmann's method (Gauss-Seidel):\n",
      "+-------+-------+-------+-------+\n",
      "| 100.0 |   0.0 |   0.0 | 100.0 |\n",
      "+-------+-------+-------+-------+\n",
      "| 100.0 |  62.5 |  62.5 | 100.0 |\n",
      "+-------+-------+-------+-------+\n",
      "| 100.0 |  87.5 |  87.5 | 100.0 |\n",
      "+-------+-------+-------+-------+\n",
      "| 100.0 | 100.0 | 100.0 | 100.0 |\n",
      "+-------+-------+-------+-------+\n"
     ]
    }
   ],
   "source": [
    "# Solve with Liebmann's method\n",
    "max_iter = 5\n",
    "solution_liebmann, method_liebmann = solve_plate_temp(\n",
    "    boundary_conditions, method='liebmann', max_iter=max_iter, tol=1e-6, verbose=True\n",
    ")\n",
    "print_temperature_grid(solution_liebmann, f\"Solution using {method_liebmann}\")"
   ]
  }
 ],
 "metadata": {
  "kernelspec": {
   "display_name": "Python 3",
   "language": "python",
   "name": "python3"
  },
  "language_info": {
   "codemirror_mode": {
    "name": "ipython",
    "version": 3
   },
   "file_extension": ".py",
   "mimetype": "text/x-python",
   "name": "python",
   "nbconvert_exporter": "python",
   "pygments_lexer": "ipython3",
   "version": "3.10.11"
  }
 },
 "nbformat": 4,
 "nbformat_minor": 5
}
