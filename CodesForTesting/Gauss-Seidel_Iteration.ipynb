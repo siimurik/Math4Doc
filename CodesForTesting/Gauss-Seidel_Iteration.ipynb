{
 "cells": [
  {
   "cell_type": "markdown",
   "id": "f6c6b1db",
   "metadata": {},
   "source": [
    "# GAUSS–SEIDEL ITERATION\n",
    "Do 5 steps, starting from $\\textbf{x}_0 = [1 \\; 1 \\; 1]^T$ and using 6S in the computation. Hint. Make sure that you solve each equation for the variable that has the largest coefficient (why?). Show the details.\n",
    "\n",
    "6. \n",
    "$$\n",
    "\\begin{array}{rcr} \n",
    "    &       &    x_2  & +7 x_3 &=  25.5 \\\\ \n",
    "    & 5x_1  &+   x_2  &       & =  0 \\\\\n",
    "    &  x_1  &+ 6 x_2  & + x_3 & =  -10.5\n",
    "\\end{array}\n",
    "$$"
   ]
  },
  {
   "cell_type": "code",
   "execution_count": 1,
   "id": "23c13ed0",
   "metadata": {},
   "outputs": [
    {
     "name": "stdout",
     "output_type": "stream",
     "text": [
      "[[0.0, 0.0, 0.0], [0.0, 0.0, 0.0], [0.0, 0.0, 0.0]]\n"
     ]
    }
   ],
   "source": [
    "n = 3\n",
    "A = [[0.0 for _ in range(n)] for _ in range(n)]\n",
    "print(A)"
   ]
  },
  {
   "cell_type": "code",
   "execution_count": 2,
   "id": "4b5f48ca",
   "metadata": {},
   "outputs": [
    {
     "name": "stdout",
     "output_type": "stream",
     "text": [
      "0.00 0.00 0.00\n",
      "0.00 0.00 0.00\n",
      "0.00 0.00 0.00\n"
     ]
    }
   ],
   "source": [
    "def print_matrix(matrix):\n",
    "    for row in matrix:\n",
    "        print(\" \".join(f\"{elem:.2f}\" for elem in row))\n",
    "\n",
    "# Example usage\n",
    "print_matrix(A)"
   ]
  },
  {
   "cell_type": "code",
   "execution_count": 3,
   "id": "a78c2036",
   "metadata": {},
   "outputs": [
    {
     "name": "stdout",
     "output_type": "stream",
     "text": [
      "Matrix shape: 3 rows, 3 columns\n"
     ]
    }
   ],
   "source": [
    "# Define function to get shape of a matrix\n",
    "def get_shape(matrix):\n",
    "    return len(matrix), len(matrix[0]) if matrix else 0\n",
    "\n",
    "# Example usage\n",
    "rows, cols = get_shape(A)\n",
    "print(f\"Matrix shape: {rows} rows, {cols} columns\")"
   ]
  },
  {
   "cell_type": "code",
   "execution_count": 4,
   "id": "30c61eee",
   "metadata": {},
   "outputs": [],
   "source": [
    "def gauss_seidel_solver(A, b, x0, num_iterations):\n",
    "    \"\"\"\n",
    "    Solves Ax = b using Gauss-Seidel iteration.\n",
    "    \n",
    "    Args:\n",
    "        A: Coefficient matrix (list of lists).\n",
    "        b: Right-hand side vector (list).\n",
    "        x0: Initial guess (list).\n",
    "        num_iterations: Number of iterations.\n",
    "    \n",
    "    Returns:\n",
    "        Solution vector x (list).\n",
    "    \"\"\"\n",
    "    n = len(A)\n",
    "    x = [val for val in x0]  # Copy initial guess\n",
    "    \n",
    "    print(f\"Initial guess: x = {x}\\n\")\n",
    "    \n",
    "    for iteration in range(1, num_iterations + 1):\n",
    "        #x_prev = [val for val in x]  # Store previous values\n",
    "        \n",
    "        for i in range(n):\n",
    "            # Compute sum(A[i][j] * x[j]) for j != i\n",
    "            sum_ax = 0.0\n",
    "            for j in range(n):\n",
    "                if j != i:\n",
    "                    sum_ax += A[i][j] * x[j]\n",
    "            \n",
    "            # Update x[i] using latest values\n",
    "            x[i] = (b[i] - sum_ax) / A[i][i]\n",
    "        \n",
    "        # Format each element to 6 decimal places\n",
    "        #formatted_x = [f\"{val:.6f}\" for val in x]\n",
    "        #print(f\"Iteration {iteration}: x = {formatted_x}\") # Leaves ugly quotes in the output\n",
    "        print(f\"Iteration {iteration}: x = [{', '.join(f'{val:.6f}' for val in x)}]\")\n",
    "    \n",
    "    return x\n"
   ]
  },
  {
   "cell_type": "code",
   "execution_count": 5,
   "id": "e6055f2d",
   "metadata": {},
   "outputs": [
    {
     "data": {
      "text/plain": [
       "'\\ntry:\\n    A_dom, b_dom = make_diagonally_dominant(A, b)\\n    print(\"Rearranged A:\")\\n    for row in A_dom:\\n        print(row)\\n    print(\"\\nRearranged b:\", b_dom)\\nexcept ValueError as e:\\n    print(\"Error:\", e)\\n'"
      ]
     },
     "execution_count": 5,
     "metadata": {},
     "output_type": "execute_result"
    }
   ],
   "source": [
    "def make_diagonally_dominant(A, b):\n",
    "    \"\"\"\n",
    "    Ensures matrix A is diagonally dominant by rearranging rows.\n",
    "    If not possible, raises a ValueError.\n",
    "\n",
    "    Args:\n",
    "        A: Square matrix (list of lists).\n",
    "        b: Right-hand side vector (list).\n",
    "\n",
    "    Returns:\n",
    "        Tuple (A_rearranged, b_rearranged) if successful.\n",
    "    \"\"\"\n",
    "    n = len(A)\n",
    "    A_new = [row.copy() for row in A]  # Copy to avoid modifying original\n",
    "    b_new = b.copy()\n",
    "\n",
    "    for i in range(n):\n",
    "        # Find the row with the largest absolute value in column i\n",
    "        max_row = i\n",
    "        max_val = abs(A_new[i][i])\n",
    "\n",
    "        for j in range(i + 1, n):\n",
    "            if abs(A_new[j][i]) > max_val:\n",
    "                max_val = abs(A_new[j][i])\n",
    "                max_row = j\n",
    "\n",
    "        # Swap rows if necessary\n",
    "        if max_row != i:\n",
    "            A_new[i], A_new[max_row] = A_new[max_row], A_new[i]\n",
    "            b_new[i], b_new[max_row] = b_new[max_row], b_new[i]\n",
    "\n",
    "        # Check if diagonal dominance is violated after swapping\n",
    "        diagonal = abs(A_new[i][i])\n",
    "        row_sum = sum(abs(A_new[i][j]) for j in range(n) if j != i)\n",
    "\n",
    "        if diagonal <= row_sum:\n",
    "            raise ValueError(\n",
    "                \"Cannot make matrix diagonally dominant. \"\n",
    "                \"At least one row violates the condition.\"\n",
    "            )\n",
    "\n",
    "    return A_new, b_new\n",
    "\n",
    "\n",
    "def bool_check_diagonal_dominance(A):\n",
    "    \"\"\"\n",
    "    Check if the matrix A is diagonally dominant.\n",
    "\n",
    "    Returns:\n",
    "        True if diagonally dominant, False otherwise.\n",
    "    \"\"\"\n",
    "    n = len(A)\n",
    "    for i in range(n):\n",
    "        diagonal = abs(A[i][i])\n",
    "        row_sum = sum(abs(A[i][j]) for j in range(n) if j != i)\n",
    "        if diagonal <= row_sum:\n",
    "            return False\n",
    "    return True\n",
    "\n",
    "def system_diagonally_dominant(A, b):\n",
    "    \"\"\"\n",
    "    Check if the system of equations is diagonally dominant.\n",
    "\n",
    "    Args:\n",
    "        A: Coefficient matrix (list of lists).\n",
    "        b: Right-hand side vector (list).\n",
    "    \n",
    "    Returns:\n",
    "        Tuple (A_dom, b_dom) if diagonally dominant or rearranged.\n",
    "    \"\"\"\n",
    "    condition = bool_check_diagonal_dominance(A)\n",
    "    if condition == False:\n",
    "        print(\"The system is not diagonally dominant.\")\n",
    "        A_dom, b_dom = make_diagonally_dominant(A, b)\n",
    "        print(\"Rearranged A:\")\n",
    "        for row in A_dom:\n",
    "            print(row)\n",
    "        print(\"\\nRearranged b:\", b_dom)\n",
    "    else:\n",
    "        print(\"The system is diagonally dominant.\")\n",
    "        A_dom, b_dom = A, b\n",
    "    return A_dom, b_dom\n",
    "\n",
    "\"\"\"\n",
    "try:\n",
    "    A_dom, b_dom = make_diagonally_dominant(A, b)\n",
    "    print(\"Rearranged A:\")\n",
    "    for row in A_dom:\n",
    "        print(row)\n",
    "    print(\"\\nRearranged b:\", b_dom)\n",
    "except ValueError as e:\n",
    "    print(\"Error:\", e)\n",
    "\"\"\""
   ]
  },
  {
   "cell_type": "code",
   "execution_count": 6,
   "id": "ecec115c",
   "metadata": {},
   "outputs": [
    {
     "name": "stdout",
     "output_type": "stream",
     "text": [
      "The system is not diagonally dominant.\n",
      "Rearranged A:\n",
      "[5, 1, 0]\n",
      "[1, 6, 1]\n",
      "[0, 1, 7]\n",
      "\n",
      "Rearranged b: [0, -10.5, 25.5]\n"
     ]
    },
    {
     "data": {
      "text/plain": [
       "([[5, 1, 0], [1, 6, 1], [0, 1, 7]], [0, -10.5, 25.5])"
      ]
     },
     "execution_count": 6,
     "metadata": {},
     "output_type": "execute_result"
    }
   ],
   "source": [
    "# Example Usage\n",
    "A = [\n",
    "    [0, 1, 7],   # Original system (not diagonally dominant)\n",
    "    [5, 1, 0],\n",
    "    [1, 6, 1]\n",
    "]\n",
    "b = [25.5, 0, -10.5]\n",
    "\n",
    "system_diagonally_dominant(A, b)"
   ]
  },
  {
   "cell_type": "code",
   "execution_count": 7,
   "id": "b936827b",
   "metadata": {},
   "outputs": [
    {
     "name": "stdout",
     "output_type": "stream",
     "text": [
      "The system is diagonally dominant.\n",
      "Initial guess: x = [1.0, 1.0, 1.0]\n",
      "\n",
      "Iteration 1: x = [-0.200000, -1.883333, 3.911905]\n",
      "Iteration 2: x = [0.376667, -2.464762, 3.994966]\n",
      "Iteration 3: x = [0.492952, -2.497986, 3.999712]\n",
      "Iteration 4: x = [0.499597, -2.499885, 3.999984]\n",
      "Iteration 5: x = [0.499977, -2.499993, 3.999999]\n",
      "\n",
      "Final solution (5 iterations):\n",
      "x1 = 0.4999769873663752\n",
      "x2 = -2.4999934249618216\n",
      "x3 = 3.9999990607088316\n"
     ]
    }
   ],
   "source": [
    "# Original system (problematic):\n",
    "# 0*x0 + 1*x1 + 7*x2 = 25.5\n",
    "# 5*x0 + 1*x1 + 0*x2 = 0.0\n",
    "# 1*x0 + 6*x1 + 1*x2 = -10.5\n",
    "\n",
    "# Rearranged system (diagonally dominant):\n",
    "# 5x1 + x2      = 0\n",
    "# x1 + 6x2 + x3 = -10.5\n",
    "# x2 + 7x3      = 25.5\n",
    "\n",
    "A = [\n",
    "    [5, 1, 0],   # 5x1 + x2 = 0\n",
    "    [1, 6, 1],   # x1 + 6x2 + x3 = -10.5\n",
    "    [0, 1, 7]    # x2 + 7x3 = 25.5\n",
    "]\n",
    "\n",
    "b = [0, -10.5, 25.5]\n",
    "\n",
    "system_diagonally_dominant(A, b)\n",
    "\n",
    "\n",
    "x0 = [1.0, 1.0, 1.0]  # Initial guess\n",
    "\n",
    "# Solve with 5 iterations and 6S precision\n",
    "solution = gauss_seidel_solver(A, b, x0, num_iterations=5)\n",
    "\n",
    "print(\"\\nFinal solution (5 iterations):\")\n",
    "print(f\"x1 = {solution[0]}\")\n",
    "print(f\"x2 = {solution[1]}\")\n",
    "print(f\"x3 = {solution[2]}\")"
   ]
  },
  {
   "cell_type": "code",
   "execution_count": null,
   "id": "1ad5da0f",
   "metadata": {},
   "outputs": [],
   "source": []
  }
 ],
 "metadata": {
  "kernelspec": {
   "display_name": "pandas-env",
   "language": "python",
   "name": "python3"
  },
  "language_info": {
   "codemirror_mode": {
    "name": "ipython",
    "version": 3
   },
   "file_extension": ".py",
   "mimetype": "text/x-python",
   "name": "python",
   "nbconvert_exporter": "python",
   "pygments_lexer": "ipython3",
   "version": "3.12.8"
  }
 },
 "nbformat": 4,
 "nbformat_minor": 5
}
