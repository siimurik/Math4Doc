{
  "cells": [
    {
      "cell_type": "code",
      "execution_count": 1,
      "metadata": {},
      "outputs": [],
      "source": [
        "import numpy as np\n",
        "import matplotlib.pyplot as plt"
      ]
    },
    {
      "cell_type": "code",
      "execution_count": 2,
      "metadata": {
        "id": "shdMQTRiTH8g"
      },
      "outputs": [],
      "source": [
        "A =[[4, 0, 0, -2, 1],\n",
        "    [0,7, 1, 3, 0],\n",
        "    [0, 0, 5, 1, 1],\n",
        "    [1, 0, 0 ,8, 1],\n",
        "    [2, 1, 0, 4, 20]]\n",
        "\n"
      ]
    },
    {
      "cell_type": "code",
      "execution_count": 3,
      "metadata": {
        "colab": {
          "base_uri": "https://localhost:8080/"
        },
        "id": "-7GzO4T6A3iy",
        "outputId": "e2b5bf15-567a-4794-9df4-8706493e40da"
      },
      "outputs": [
        {
          "data": {
            "text/plain": [
              "(5, 5)"
            ]
          },
          "execution_count": 3,
          "metadata": {},
          "output_type": "execute_result"
        }
      ],
      "source": [
        "A = np.array(A)\n",
        "A.shape"
      ]
    },
    {
      "cell_type": "code",
      "execution_count": 4,
      "metadata": {
        "id": "yqg9ZgjPXjlh"
      },
      "outputs": [],
      "source": [
        "epsilon = 10**(-7)"
      ]
    },
    {
      "cell_type": "code",
      "execution_count": 5,
      "metadata": {
        "colab": {
          "base_uri": "https://localhost:8080/"
        },
        "id": "9TWmy0-jTmg7",
        "outputId": "590805ab-176b-4263-e598-1db11fc528bc"
      },
      "outputs": [
        {
          "name": "stdout",
          "output_type": "stream",
          "text": [
            "Converged!\n",
            "number of iterations is 7\n"
          ]
        }
      ],
      "source": [
        "x1 = 0\n",
        "x2 = 0\n",
        "x3 = 0\n",
        "x4 = 0\n",
        "x5 = 0\n",
        "converged = False\n",
        "x_old = np.array([x1, x2, x3, x4, x5])\n",
        "for k in range(1, 50):\n",
        "  x1 = (1+2*x4-x5)/4\n",
        "  x2 = (0-x3-3*x4)/7\n",
        "  x3 = (1-x4-x5)/5\n",
        "  x4 = (0-x1-x5)/8\n",
        "  x5 = (1 -2*x1-x2-4*x4)/20\n",
        "  x = np.array([x1, x2, x3, x4, x5])\n",
        "  # check if it is smaller than threshold\n",
        "  dx = np.sqrt(np.dot(x-x_old, x-x_old)) #L2 norm\n",
        "  if dx < epsilon:\n",
        "    converged = True\n",
        "    print(\"Converged!\")\n",
        "    break\n",
        "  # assign the latest x value to the old value\n",
        "  x_old = x\n",
        "\n",
        "print( \"number of iterations is\", k)\n",
        "if not converged:\n",
        "  print(\"Not converged, increase the # of iterations\")"
      ]
    },
    {
      "cell_type": "code",
      "execution_count": 6,
      "metadata": {
        "colab": {
          "base_uri": "https://localhost:8080/"
        },
        "id": "GWvmVtXGYpXu",
        "outputId": "f2b62801-13af-42b8-f380-f4657125c11e"
      },
      "outputs": [
        {
          "data": {
            "text/plain": [
              "array([ 0.2250835 , -0.01458956,  0.19955177, -0.03247495,  0.03471612])"
            ]
          },
          "execution_count": 6,
          "metadata": {},
          "output_type": "execute_result"
        }
      ],
      "source": [
        "x"
      ]
    },
    {
      "cell_type": "code",
      "execution_count": 7,
      "metadata": {
        "colab": {
          "base_uri": "https://localhost:8080/"
        },
        "id": "tf1grXm5CRi4",
        "outputId": "ac04aa30-0159-4949-e5bb-0a9830ce5509"
      },
      "outputs": [
        {
          "data": {
            "text/plain": [
              "array([1, 0, 1, 0, 1])"
            ]
          },
          "execution_count": 7,
          "metadata": {},
          "output_type": "execute_result"
        }
      ],
      "source": [
        "b = np.array([1,0,1,0,1])\n",
        "b"
      ]
    },
    {
      "cell_type": "code",
      "execution_count": 8,
      "metadata": {
        "colab": {
          "base_uri": "https://localhost:8080/"
        },
        "id": "Gm9OH1fCCYEm",
        "outputId": "16551c90-ae26-49de-db7b-7350564a6934"
      },
      "outputs": [
        {
          "name": "stdout",
          "output_type": "stream",
          "text": [
            "3.73 μs ± 103 ns per loop (mean ± std. dev. of 7 runs, 100,000 loops each)\n"
          ]
        }
      ],
      "source": [
        "%%timeit\n",
        "np.linalg.solve(A, b)"
      ]
    },
    {
      "cell_type": "code",
      "execution_count": 9,
      "metadata": {
        "colab": {
          "base_uri": "https://localhost:8080/"
        },
        "id": "yN52B5zOFVbY",
        "outputId": "7c644a07-144a-4985-b0c5-2369ffc550aa"
      },
      "outputs": [
        {
          "data": {
            "text/plain": [
              "array([[2.        , 0.        , 0.        , 0.        , 0.        ],\n",
              "       [0.        , 2.64575131, 0.        , 0.        , 0.        ],\n",
              "       [0.        , 0.        , 2.23606798, 0.        , 0.        ],\n",
              "       [0.5       , 0.        , 0.        , 2.78388218, 0.        ],\n",
              "       [1.        , 0.37796447, 0.        , 1.25723711, 4.15650066]])"
            ]
          },
          "execution_count": 9,
          "metadata": {},
          "output_type": "execute_result"
        }
      ],
      "source": [
        "np.linalg.cholesky(A)"
      ]
    },
    {
      "cell_type": "code",
      "execution_count": 10,
      "metadata": {
        "colab": {
          "base_uri": "https://localhost:8080/"
        },
        "id": "Dv_N9pL5GOIi",
        "outputId": "17f2163a-5c39-477c-8e01-d1193a594bf5"
      },
      "outputs": [
        {
          "data": {
            "text/plain": [
              "array([[ 9,  6, 12],\n",
              "       [ 6, 13, 11],\n",
              "       [12, 11, 26]])"
            ]
          },
          "execution_count": 10,
          "metadata": {},
          "output_type": "execute_result"
        }
      ],
      "source": [
        "L = np.array([[9, 6, 12],\n",
        "              [6, 13, 11],\n",
        "              [12, 11, 26]])\n",
        "L"
      ]
    },
    {
      "cell_type": "code",
      "execution_count": 11,
      "metadata": {
        "colab": {
          "base_uri": "https://localhost:8080/"
        },
        "id": "3yWvKCHdGYPN",
        "outputId": "d37599ab-4ea2-4498-acbc-ffbb22aa14f0"
      },
      "outputs": [
        {
          "data": {
            "text/plain": [
              "array([[3., 0., 0.],\n",
              "       [2., 3., 0.],\n",
              "       [4., 1., 3.]])"
            ]
          },
          "execution_count": 11,
          "metadata": {},
          "output_type": "execute_result"
        }
      ],
      "source": [
        "np.linalg.cholesky(L)"
      ]
    },
    {
      "cell_type": "code",
      "execution_count": 12,
      "metadata": {
        "colab": {
          "base_uri": "https://localhost:8080/"
        },
        "id": "bMCphmb9J8O4",
        "outputId": "a34eba9a-37a6-44cb-8d42-a6fa5abd2af4"
      },
      "outputs": [
        {
          "data": {
            "text/plain": [
              "array([[17.4],\n",
              "       [23.6],\n",
              "       [30.8]])"
            ]
          },
          "execution_count": 12,
          "metadata": {},
          "output_type": "execute_result"
        }
      ],
      "source": [
        "b = np.array([[17.4], [23.6], [30.8]])\n",
        "b"
      ]
    },
    {
      "cell_type": "code",
      "execution_count": 13,
      "metadata": {
        "colab": {
          "base_uri": "https://localhost:8080/"
        },
        "id": "uDfiQrw9KSD5",
        "outputId": "42fafb07-456a-4731-ea75-f1998e317ce8"
      },
      "outputs": [
        {
          "data": {
            "text/plain": [
              "array([[5.8],\n",
              "       [4. ],\n",
              "       [1.2]])"
            ]
          },
          "execution_count": 13,
          "metadata": {},
          "output_type": "execute_result"
        }
      ],
      "source": [
        "y = np.linalg.inv(np.linalg.cholesky(L)) @ b\n",
        "y"
      ]
    },
    {
      "cell_type": "code",
      "execution_count": 14,
      "metadata": {
        "colab": {
          "base_uri": "https://localhost:8080/"
        },
        "id": "tRxrZW0sLi_u",
        "outputId": "8152275e-81ee-4f93-c277-716f352a91ed"
      },
      "outputs": [
        {
          "data": {
            "text/plain": [
              "array([[0.6],\n",
              "       [1.2],\n",
              "       [0.4]])"
            ]
          },
          "execution_count": 14,
          "metadata": {},
          "output_type": "execute_result"
        }
      ],
      "source": [
        "x = np.linalg.inv(np.transpose(np.linalg.cholesky(L))) @ y\n",
        "x"
      ]
    },
    {
      "cell_type": "code",
      "execution_count": 15,
      "metadata": {
        "colab": {
          "base_uri": "https://localhost:8080/"
        },
        "id": "zfRY5c2aLudh",
        "outputId": "b1cf9699-78ad-4ef4-cf9a-23be18dc161c"
      },
      "outputs": [
        {
          "name": "stdout",
          "output_type": "stream",
          "text": [
            "[0 2 3 5] \n",
            " [ 2  0 -2 -3]\n"
          ]
        }
      ],
      "source": [
        "x = np.array([0, 2, 3, 5])\n",
        "y = np.array([2, 0, -2, -3])\n",
        "print(x, '\\n', y)"
      ]
    },
    {
      "cell_type": "code",
      "execution_count": 16,
      "metadata": {
        "colab": {
          "base_uri": "https://localhost:8080/"
        },
        "id": "NN9LFtpjMVz9",
        "outputId": "5df753da-1259-43b6-f7b9-01f5921ba513"
      },
      "outputs": [
        {
          "data": {
            "text/plain": [
              "array([[  0,   0,   0,   1],\n",
              "       [  8,   4,   2,   1],\n",
              "       [ 27,   9,   3,   1],\n",
              "       [125,  25,   5,   1]])"
            ]
          },
          "execution_count": 16,
          "metadata": {},
          "output_type": "execute_result"
        }
      ],
      "source": [
        "Vtemp = np.vander(x)\n",
        "Vtemp"
      ]
    },
    {
      "cell_type": "code",
      "execution_count": 17,
      "metadata": {
        "colab": {
          "base_uri": "https://localhost:8080/"
        },
        "id": "McTRuwASMrcZ",
        "outputId": "0cc4b2cf-e725-4a78-e223-a8ddefe662e0"
      },
      "outputs": [
        {
          "data": {
            "text/plain": [
              "4"
            ]
          },
          "execution_count": 17,
          "metadata": {},
          "output_type": "execute_result"
        }
      ],
      "source": [
        "len(Vtemp)"
      ]
    },
    {
      "cell_type": "code",
      "execution_count": 18,
      "metadata": {
        "colab": {
          "base_uri": "https://localhost:8080/"
        },
        "id": "3y-rRL_vMilG",
        "outputId": "3563e16d-d5e0-4cea-ab76-3c93ca5d9cbc"
      },
      "outputs": [
        {
          "data": {
            "text/plain": [
              "array([[0, 1],\n",
              "       [2, 1],\n",
              "       [3, 1],\n",
              "       [5, 1]])"
            ]
          },
          "execution_count": 18,
          "metadata": {},
          "output_type": "execute_result"
        }
      ],
      "source": [
        "N = 2\n",
        "V = Vtemp[:, (len(Vtemp) - N):len(Vtemp)]\n",
        "V"
      ]
    },
    {
      "cell_type": "code",
      "execution_count": 19,
      "metadata": {
        "colab": {
          "base_uri": "https://localhost:8080/"
        },
        "id": "-Oq0CQxlNmL3",
        "outputId": "c0eb287a-23be-4671-c57a-0f9e680b0205"
      },
      "outputs": [
        {
          "name": "stdout",
          "output_type": "stream",
          "text": [
            "Q =\n",
            " [[ 0.         -0.85485041]\n",
            " [-0.32444284 -0.40492914]\n",
            " [-0.48666426 -0.17996851]\n",
            " [-0.81110711  0.26995276]]\n",
            "R =\n",
            " [[-6.164414   -1.62221421]\n",
            " [ 0.         -1.1697953 ]]\n"
          ]
        }
      ],
      "source": [
        "Q, R = np.linalg.qr(V)\n",
        "print('Q =\\n', Q)\n",
        "print('R =\\n', R)"
      ]
    },
    {
      "cell_type": "code",
      "execution_count": 20,
      "metadata": {
        "colab": {
          "base_uri": "https://localhost:8080/"
        },
        "id": "gKALYzDkOl35",
        "outputId": "6358ae35-420a-4291-f2bd-7b794d8efe5a"
      },
      "outputs": [
        {
          "data": {
            "text/plain": [
              "array([-1.03846154,  1.84615385])"
            ]
          },
          "execution_count": 20,
          "metadata": {},
          "output_type": "execute_result"
        }
      ],
      "source": [
        "p = np.dot(Q.T, y)\n",
        "C = np.dot(np.linalg.inv(R), p)\n",
        "C"
      ]
    },
    {
      "cell_type": "code",
      "execution_count": 21,
      "metadata": {
        "id": "mY_O8CaDP3la"
      },
      "outputs": [],
      "source": [
        "func = lambda x:C[0]*x + C[1]"
      ]
    },
    {
      "cell_type": "code",
      "execution_count": 22,
      "metadata": {
        "id": "LAQ6DuDcS6rK"
      },
      "outputs": [],
      "source": [
        "f2 = lambda x: 92/35 + -43/35 * x"
      ]
    },
    {
      "cell_type": "code",
      "execution_count": 23,
      "metadata": {
        "colab": {
          "base_uri": "https://localhost:8080/",
          "height": 430
        },
        "id": "9CysoIx9Pu7i",
        "outputId": "3dbf53fd-14e6-45db-dedb-cef74427fe67"
      },
      "outputs": [
        {
          "data": {
            "image/png": "[encoded data removed]",
            "text/plain": [
              "<Figure size 640x480 with 1 Axes>"
            ]
          },
          "metadata": {},
          "output_type": "display_data"
        }
      ],
      "source": [
        "plt.scatter(x,y)\n",
        "t = np.arange(0, 5, 0.001)\n",
        "plt.plot(t, func(t))\n",
        "plt.plot(t, f2(t))\n",
        "plt.grid()"
      ]
    },
    {
      "cell_type": "code",
      "execution_count": 24,
      "metadata": {
        "colab": {
          "base_uri": "https://localhost:8080/"
        },
        "id": "c_we91w8Pzti",
        "outputId": "1f460c7b-8b14-45b1-b1ff-e9c132432042"
      },
      "outputs": [
        {
          "data": {
            "text/plain": [
              "2.6285714285714286"
            ]
          },
          "execution_count": 24,
          "metadata": {},
          "output_type": "execute_result"
        }
      ],
      "source": [
        "92/35"
      ]
    },
    {
      "cell_type": "code",
      "execution_count": 25,
      "metadata": {
        "colab": {
          "base_uri": "https://localhost:8080/"
        },
        "id": "H3c5tyFWQcXY",
        "outputId": "b532dcfa-afc3-4977-9173-c6aecabe4723"
      },
      "outputs": [
        {
          "data": {
            "text/plain": [
              "-1.2285714285714286"
            ]
          },
          "execution_count": 25,
          "metadata": {},
          "output_type": "execute_result"
        }
      ],
      "source": [
        "-43/35"
      ]
    }
  ],
  "metadata": {
    "colab": {
      "provenance": []
    },
    "kernelspec": {
      "display_name": "pandas-env",
      "language": "python",
      "name": "python3"
    },
    "language_info": {
      "codemirror_mode": {
        "name": "ipython",
        "version": 3
      },
      "file_extension": ".py",
      "mimetype": "text/x-python",
      "name": "python",
      "nbconvert_exporter": "python",
      "pygments_lexer": "ipython3",
      "version": "3.12.8"
    }
  },
  "nbformat": 4,
  "nbformat_minor": 0
}
